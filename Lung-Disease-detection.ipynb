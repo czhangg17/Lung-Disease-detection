{
 "cells": [
  {
   "cell_type": "markdown",
   "id": "8c47f867",
   "metadata": {},
   "source": [
    "# Samay Techinical Assesstment \n",
    "\n",
    "The following assestment aims to develop, and optimize a machine learning solution for detecting and classifying respiratory diseases. This will be achieved using a dataset of lung sounds recorded with an electronic stethoscope. The comprehensive IPython Notebook delivered should demonstrate the candidate's proficiency in analyzing sensor data for health applications, specifically in the context of pulmonary diseases.\n"
   ]
  },
  {
   "cell_type": "markdown",
   "id": "c9a655e0",
   "metadata": {},
   "source": [
    "**Primary Task :** Conduct a thorough analysis of the lung sound dataset, extracting meaningful patterns and insights relevant to respiratory diseases. This analysis should go beyond basic statistical descriptions and delve into the nuances and complexities of the data."
   ]
  },
  {
   "cell_type": "markdown",
   "id": "4efca0f4",
   "metadata": {},
   "source": [
    "## Loading the data\n",
    "\n",
    "The data set of the audio cames from tow different sources, please clone the respository:\n",
    "https://github.com/czhangg17/Lung-Disease-detection\n",
    "\n",
    "Create a branch with your changes"
   ]
  },
  {
   "cell_type": "code",
   "execution_count": 1,
   "id": "11e6c661",
   "metadata": {},
   "outputs": [],
   "source": [
    "#!pip3 install tensorflow"
   ]
  },
  {
   "cell_type": "code",
   "execution_count": null,
   "id": "192a5435",
   "metadata": {},
   "outputs": [],
   "source": [
    "# libraries\n",
    "\n",
    "import os\n",
    "import pathlib\n",
    "\n",
    "import matplotlib.pyplot as plt\n",
    "import numpy as np\n",
    "import seaborn as sns\n",
    "import tensorflow as tf\n",
    "import pandas as pd\n",
    "\n",
    "#from tensorflow.keras import layers, models\n",
    "\n",
    "from IPython import display\n",
    "\n",
    "import numpy as np # linear algebra\n",
    "import pandas as pd # data processing, CSV file I/O (e.g. pd.read_csv)\n",
    "\n",
    "\n",
    "import matplotlib.image as mpimg\n",
    "#import keras\n",
    "#from keras.models import Sequential\n",
    "#from tensorflow.keras.optimizers import Adam\n",
    "#from keras.layers import Convolution2D, MaxPooling2D, Dropout, Flatten, Dense\n",
    "#from sklearn.utils import shuffle\n",
    "#from sklearn.model_selection import train_test_split\n",
    "from imgaug import augmenters as iaa\n",
    "import cv2\n",
    "\n",
    "import ntpath\n",
    "import random\n",
    "# Input data files are available in the read-only \"../input/\" directory\n",
    "# For example, running this (by clicking run or pressing Shift+Enter) will list all files under the input directory\n",
    "\n",
    "import os\n",
    "file_paths = []\n",
    "for dirname, _, filenames in os.walk('./Audio Files/'):\n",
    "    for filename in filenames:\n",
    "        file_paths.append(os.path.join(dirname,filename))\n",
    "        \n",
    "        \n",
    "import scipy\n",
    "import scipy.io\n",
    "import scipy.io.wavfile\n",
    "from scipy import signal\n",
    "from scipy.fft import fftshift\n",
    "from os.path import dirname, join as pjoin\n",
    "from scipy.io import wavfile"
   ]
  },
  {
   "cell_type": "code",
   "execution_count": 5,
   "id": "3b712248",
   "metadata": {},
   "outputs": [],
   "source": [
    "os.chdir('/Users/andresheredialopez/Documents/Cindy/Assesstment_ML/Lung-Disease-detection') # change your path"
   ]
  },
  {
   "cell_type": "markdown",
   "id": "e21ead3e",
   "metadata": {},
   "source": [
    "The followign functions will help you to read and spectogram and the audio file\n",
    "\n",
    "### To do:\n",
    "Feel free to use it , or create you own functions to read the data, make some graphics to understand what is inside the data\n",
    "\n",
    "### glue:\n",
    " \n",
    "the library display play the ayudio playback, you can use the command : display.display(display.Audio(data, rate=16000))"
   ]
  },
  {
   "cell_type": "code",
   "execution_count": 7,
   "id": "d30836da",
   "metadata": {},
   "outputs": [],
   "source": [
    "def get_spectrogram(waveform):\n",
    "    \n",
    "  # Zero-padding for an audio waveform with less than 16,000 samples.\n",
    "    input_len = 16000\n",
    "    waveform = waveform[:input_len]\n",
    "    zero_padding = tf.zeros(\n",
    "      [16000] - tf.shape(waveform),\n",
    "      dtype=tf.float32)\n",
    "  # Cast the waveform tensors' dtype to float32.\n",
    "    waveform = tf.cast(waveform, dtype=tf.float32)\n",
    "  # Concatenate the waveform with `zero_padding`, which ensures all audio\n",
    "  # clips are of the same length.\n",
    "    equal_length = tf.concat([waveform, zero_padding], 0)\n",
    "  # Convert the waveform to a spectrogram via a STFT.\n",
    "    spectrogram = tf.signal.stft(\n",
    "    equal_length, frame_length=255, frame_step=128)\n",
    "  # Obtain the magnitude of the STFT.\n",
    "    spectrogram = tf.abs(spectrogram)\n",
    "  # Add a `channels` dimension, so that the spectrogram can be used\n",
    "  # as image-like input data with convolution layers (which expect\n",
    "  # shape (`batch_size`, `height`, `width`, `channels`).\n",
    "    spectrogram = spectrogram[..., tf.newaxis]\n",
    "    return spectrogram"
   ]
  },
  {
   "cell_type": "code",
   "execution_count": 8,
   "id": "17333ab2",
   "metadata": {},
   "outputs": [],
   "source": [
    "def plot_spectrogram(spectrogram, ax):\n",
    "    if len(spectrogram.shape) > 2:\n",
    "        \n",
    "        assert len(spectrogram.shape) == 3\n",
    "        spectrogram = np.squeeze(spectrogram, axis=-1)\n",
    "  # Convert the frequencies to log scale and transpose, so that the time is\n",
    "  # represented on the x-axis (columns).\n",
    "  # Add an epsilon to avoid taking a log of zero.\n",
    "    log_spec = np.log(spectrogram.T + np.finfo(float).eps)\n",
    "    height = log_spec.shape[0]\n",
    "    width = log_spec.shape[1]\n",
    "    X = np.linspace(0, np.size(spectrogram), num=width, dtype=int)\n",
    "    Y = range(height)\n",
    "    ax.pcolormesh(X, Y, log_spec)"
   ]
  },
  {
   "cell_type": "code",
   "execution_count": 9,
   "id": "a85ac831",
   "metadata": {},
   "outputs": [],
   "source": [
    "def read_wave(wav_fname):\n",
    "    samplerate, data = wavfile.read(wav_fname)\n",
    "    print(\"sample rate : \",samplerate)\n",
    "    print(\"data : \",data)\n",
    "    print(\"data shape : \",data.shape)\n",
    "    print(f\"number of channels = {data.shape[0]}\")\n",
    "    # number of channels = 2\n",
    "\n",
    "    length = data.shape[0] / samplerate\n",
    "\n",
    "    print(f\"length = {length}s\")\n",
    "    # length = 0.01s"
   ]
  },
  {
   "cell_type": "code",
   "execution_count": 12,
   "id": "862b963c",
   "metadata": {},
   "outputs": [],
   "source": [
    "# and example of an wav data\n",
    "samplerate, data = wavfile.read('./Audio Files/EP81_N,N,P L U,33,M.wav')\n",
    "wav_fname='./Audio Files/EP81_N,N,P L U,33,M.wav'"
   ]
  },
  {
   "cell_type": "code",
   "execution_count": null,
   "id": "dd4b1643",
   "metadata": {},
   "outputs": [],
   "source": [
    "samplerate, data = wavfile.read(wav_fname)\n",
    "print(\"sample rate : \",samplerate)\n",
    "print(\"data : \",data)\n",
    "print(\"data shape : \",data.shape)\n",
    "print(f\"number of channels = {data.shape[0]}\")\n",
    "    # number of channels = 2\n",
    "\n",
    "length = data.shape[0] / samplerate\n",
    "\n",
    "print(f\"length = {length}s\")\n",
    "    # length = 0.01s"
   ]
  },
  {
   "cell_type": "code",
   "execution_count": null,
   "id": "e97a13c0",
   "metadata": {},
   "outputs": [],
   "source": [
    "# plotting and spectogram \n",
    "fig, axes = plt.subplots(2, figsize=(12, 8))\n",
    "timescale = np.arange(data.shape[0])\n",
    "axes[0].plot(timescale, data)\n",
    "# axes[0].set_title('Waveform')\n",
    "axes[0].set_xlim([0, 16000])\n",
    "\n",
    "plot_spectrogram(spectrogram.numpy(), axes[1])\n",
    "# axes[1].set_title('Spectrogram')\n",
    "plt.show()\n"
   ]
  },
  {
   "cell_type": "markdown",
   "id": "332e81df",
   "metadata": {},
   "source": [
    "### Descriptive analysis and feature engenering\n",
    "\n",
    "Many times, in audio processing the matrix of the date is treat as a normal dataset for each sample, descriptive statistics is usefull to understand the variability of energy. This should be the fisrts approach befere start modelling\n",
    "\n",
    "\n",
    "## To do:\n",
    "\n",
    "After you extract the audio matrix, create a function that returns mean,max, min, median, standar deviation and variation coefficient in a table.\n",
    "\n",
    "You will see that names of the audio files contains a label of the sample, you will need to clean the file name and extract the lables. Some of the labels should be in the lables object. Use ',' and '-' separtion."
   ]
  },
  {
   "cell_type": "code",
   "execution_count": null,
   "id": "ccfe54f3",
   "metadata": {},
   "outputs": [],
   "source": [
    "label_expected={'Asthma',\n",
    " 'Asthma and lung fibrosis',\n",
    " 'BRON',\n",
    " 'COPD',\n",
    " 'Heart Failure',\n",
    " 'Heart Failure + COPD',\n",
    " 'Heart Failure + Lung Fibrosis ',\n",
    " 'Lung Fibrosis',\n",
    " 'N',\n",
    " 'Plueral Effusion',\n",
    " 'asthma',\n",
    " 'copd',\n",
    " 'heart failure',\n",
    " 'pneumonia'}"
   ]
  },
  {
   "cell_type": "markdown",
   "id": "9fd68503",
   "metadata": {},
   "source": [
    "## To do:\n",
    "Explain a way to encode the labels and why will you use it"
   ]
  },
  {
   "cell_type": "markdown",
   "id": "5eca2754",
   "metadata": {},
   "source": [
    "### Feature engenering\n",
    "The feature engineering is the way to create acoustic features of the data, many times audio features are used to model instead of the raw data, so a preprocessing is need.\n",
    "\n",
    "## To do:\n",
    "\n",
    "Extract relevant features from the audio data, with a focus on entropy-based representations, such as Shannon entropy.\n",
    "Analyze the impact of different filters (Bell, Diaphragm, and Extended modes) and recording locations on feature selection.\n"
   ]
  },
  {
   "cell_type": "code",
   "execution_count": null,
   "id": "0ff43562",
   "metadata": {},
   "outputs": [],
   "source": [
    "# this is an example\n",
    "\n",
    "spectrogram = get_spectrogram(data)\n",
    "spectrogram"
   ]
  },
  {
   "cell_type": "markdown",
   "id": "9bdc3b71",
   "metadata": {},
   "source": [
    "# Machine Learning Algorithm Design and Validation\n"
   ]
  },
  {
   "cell_type": "markdown",
   "id": "b3cf5ea5",
   "metadata": {},
   "source": [
    "Primary Task: Develop a machine learning algorithm using the provided dataset of lung sounds. This model should be capable of accurately detecting and classifying respiratory diseases.\n",
    "\n",
    "Approach:\n",
    "Data Preprocessing and Feature Engineering: \n",
    "Extract relevant features from the audio data, with a focus on entropy-based representations, such as Shannon entropy.\n",
    "Analyze the impact of different filters (Bell, Diaphragm, and Extended modes) and recording locations on feature selection.\n",
    "Algorithm Design: Design the algorithm considering various approaches to handling biomedical data. Ensure the algorithm efficiently processes the preprocessed and feature-engineered data to achieve accurate classification results.\n",
    "Innovative Modeling Techniques: Utilize advanced machine learning techniques, exploring options like ensemble methods, decision trees, and neural networks. The candidate should demonstrate creativity and proficiency "
   ]
  }
 ],
 "metadata": {
  "kernelspec": {
   "display_name": "Python 3 (ipykernel)",
   "language": "python",
   "name": "python3"
  },
  "language_info": {
   "codemirror_mode": {
    "name": "ipython",
    "version": 3
   },
   "file_extension": ".py",
   "mimetype": "text/x-python",
   "name": "python",
   "nbconvert_exporter": "python",
   "pygments_lexer": "ipython3",
   "version": "3.9.13"
  }
 },
 "nbformat": 4,
 "nbformat_minor": 5
}
